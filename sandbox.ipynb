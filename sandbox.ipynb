{
 "cells": [
  {
   "cell_type": "code",
   "execution_count": 1,
   "metadata": {},
   "outputs": [],
   "source": [
    "# Python standard library packages \n",
    "import sys\n",
    "import os\n",
    "\n",
    "# 3rd party packages \n",
    "# import pandas as pd\n",
    "import dotenv\n",
    "import sqlalchemy as sa\n",
    "\n",
    "# Local development packages\n",
    "sys.path.append(\".\")\n",
    "import trapdata\n",
    "from trapdata.db import get_session_class\n",
    "\n",
    "%load_ext autoreload\n",
    "%autoreload 2\n",
    "\n",
    "dotenv.load_dotenv()\n",
    "\n",
    "db_path = os.getenv(\"DATABASE_URL\")\n",
    "Session = get_session_class(db_path)"
   ]
  },
  {
   "cell_type": "code",
   "execution_count": 2,
   "metadata": {},
   "outputs": [],
   "source": [
    "session = Session()"
   ]
  },
  {
   "cell_type": "code",
   "execution_count": 15,
   "metadata": {},
   "outputs": [
    {
     "data": {
      "text/plain": [
       "[1, 2, 3, 4, 5, 6, 7, 8, 9, 10]"
      ]
     },
     "execution_count": 15,
     "metadata": {},
     "output_type": "execute_result"
    }
   ],
   "source": [
    "session.execute(sa.select(trapdata.DetectedObject.id).limit(10)).scalars().all()"
   ]
  },
  {
   "cell_type": "code",
   "execution_count": 16,
   "metadata": {},
   "outputs": [
    {
     "ename": "TypeError",
     "evalue": "count_species_with_images() missing 2 required positional arguments: 'db_path' and 'monitoring_session'",
     "output_type": "error",
     "traceback": [
      "\u001b[0;31m---------------------------------------------------------------------------\u001b[0m",
      "\u001b[0;31mTypeError\u001b[0m                                 Traceback (most recent call last)",
      "\u001b[1;32m/home/michael/Projects/AMI/trapdata-app/sandbox.ipynb Cell 4\u001b[0m in \u001b[0;36m<cell line: 3>\u001b[0;34m()\u001b[0m\n\u001b[1;32m      <a href='vscode-notebook-cell:/home/michael/Projects/AMI/trapdata-app/sandbox.ipynb#W4sZmlsZQ%3D%3D?line=0'>1</a>\u001b[0m \u001b[39mfrom\u001b[39;00m \u001b[39mtrapdata\u001b[39;00m\u001b[39m.\u001b[39;00m\u001b[39mdb\u001b[39;00m\u001b[39m.\u001b[39;00m\u001b[39mqueries\u001b[39;00m \u001b[39mimport\u001b[39;00m count_species_with_images\n\u001b[0;32m----> <a href='vscode-notebook-cell:/home/michael/Projects/AMI/trapdata-app/sandbox.ipynb#W4sZmlsZQ%3D%3D?line=2'>3</a>\u001b[0m count_species_with_images()\n",
      "\u001b[0;31mTypeError\u001b[0m: count_species_with_images() missing 2 required positional arguments: 'db_path' and 'monitoring_session'"
     ]
    }
   ],
   "source": [
    "from trapdata.db.queries import count_species_with_images\n",
    "\n",
    "count_species_with_images(db)"
   ]
  },
  {
   "cell_type": "code",
   "execution_count": null,
   "metadata": {},
   "outputs": [],
   "source": []
  }
 ],
 "metadata": {
  "kernelspec": {
   "display_name": "Python 3.9.12 ('.venv': venv)",
   "language": "python",
   "name": "python3"
  },
  "language_info": {
   "codemirror_mode": {
    "name": "ipython",
    "version": 3
   },
   "file_extension": ".py",
   "mimetype": "text/x-python",
   "name": "python",
   "nbconvert_exporter": "python",
   "pygments_lexer": "ipython3",
   "version": "3.9.12"
  },
  "orig_nbformat": 4,
  "vscode": {
   "interpreter": {
    "hash": "2346c9994f47ab70dc23873d8f0984ae98d8d2ee848daab1f539366004c7353e"
   }
  }
 },
 "nbformat": 4,
 "nbformat_minor": 2
}
